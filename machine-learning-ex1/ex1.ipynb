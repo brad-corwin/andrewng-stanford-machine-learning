{
 "cells": [
  {
   "cell_type": "markdown",
   "metadata": {},
   "source": [
    "# Programming Exercise 1: Linear Regression with One Variable"
   ]
  },
  {
   "cell_type": "markdown",
   "metadata": {},
   "source": [
    "This uses the Octave code from Programming Exercise 1 and implements it in Python."
   ]
  },
  {
   "cell_type": "markdown",
   "metadata": {},
   "source": [
    "Required libraries:"
   ]
  },
  {
   "cell_type": "code",
   "execution_count": 1,
   "metadata": {},
   "outputs": [],
   "source": [
    "import numpy as np\n",
    "import matplotlib.pyplot as plt\n",
    "import pandas as pd\n",
    "from sklearn.linear_model import LinearRegression"
   ]
  },
  {
   "cell_type": "markdown",
   "metadata": {},
   "source": [
    "## Load the data from the text file using numpy. \n",
    "\n",
    "The text file is delimited by commas between the data so we set the delimiter to ','. The data is loaded using pandas but a numpy implementation is listed and commented out."
   ]
  },
  {
   "cell_type": "code",
   "execution_count": 2,
   "metadata": {},
   "outputs": [],
   "source": [
    "# Another method to load the data using numpy\n",
    "# data1 = np.loadtxt(\"ex1\\ex1data1.txt\", delimiter=',')\n",
    "data1 = pd.read_csv('ex1\\ex1data1.txt', sep=',', header=None)"
   ]
  },
  {
   "cell_type": "markdown",
   "metadata": {},
   "source": [
    "## Set the constant variables.\n",
    "\n",
    "alpha is our learning rate, iterations is the number of iterations/steps that we will use for gradient descent."
   ]
  },
  {
   "cell_type": "code",
   "execution_count": 3,
   "metadata": {},
   "outputs": [],
   "source": [
    "iterations = 1500\n",
    "alpha = 0.01"
   ]
  },
  {
   "cell_type": "markdown",
   "metadata": {},
   "source": [
    "## Compute Cost Function\n",
    "\n",
    "**θ** is our *parameter* or *weight*, we update θ to minimize our cost function, *J*\n",
    "\n",
    "**h** is our *hypothesis* given by the formula below. h should try to best fit to our data y.\n",
    "\n",
    "\\begin{equation*}\n",
    "h = X * \\theta\n",
    "\\end{equation*}\n",
    "\n",
    "The squared error finds the squared difference beween our hypothesis value, *h*, and our real value, *y*. Summing the squared error helps find how far away our predicted regression line is from the data.\n",
    "\n",
    "\\begin{equation*}\n",
    "\\sum_{}^m (h-y)^2\n",
    "\\end{equation*}\n",
    "\n",
    "1/m is chosen to give the mean(average) of the results. The mean is halved as a convenience for gradient descent as the derivation term of the square function will cancel out the 1/2 term.\n",
    "\n",
    "\\begin{equation*}\n",
    "\\frac{1}{2m}\n",
    "\\end{equation*}\n",
    "\n",
    "Combining all of the information about, the cost function, *J*, is given below. J measures the accuracy of the hypothesis. \n",
    "\n",
    "\\begin{equation*}\n",
    "J(\\theta) = \\frac{1}{2m} \\sum_{}^m (h-y)^2\n",
    "\\end{equation*}\n",
    "\n",
    "**It is important to note that to avoid errors with the * operator, np.matmul should be used when multiplying matrices together.**"
   ]
  },
  {
   "cell_type": "code",
   "execution_count": 4,
   "metadata": {},
   "outputs": [],
   "source": [
    "def computeCost(X, y, theta):\n",
    "    m = np.size(y)\n",
    "    h = np.matmul(X, theta)\n",
    "    # np.square is the element-wise square\n",
    "    squaredErrors = np.square(h - y)\n",
    "    J = 1/(2*m) * sum(squaredErrors)\n",
    "    return J"
   ]
  },
  {
   "cell_type": "markdown",
   "metadata": {},
   "source": [
    "## Run Gradient Descent\n",
    "\n",
    "Gradient descent helps to minimize the cost function. The idea is that you start with some parameters, θ, and keeping changing them to reduce J until you reach a local minimum. A good example of gradient descent is that you are standing on a hill and take one step towards the bottom of the hill. How large of a step you take is determined by the learning rate, *α*.\n",
    "\n",
    "If α is too small, gradient descent can be very slow to converge (baby steps). If α is too large, gradient descent can fail to converge and even diverge (giant steps) \n",
    "\n",
    "The formula for gradient descent is repeated until convergence. \n",
    "\n",
    "\\begin{equation*}\n",
    "\\theta_j := \\theta_j - α \\frac{\\partial}{\\partial \\theta_j} J(\\theta_j)\n",
    "\\end{equation*}\n",
    "\n",
    "The partial derivative for each j is given by the term, delta: *δ*. The derivative is the slope of the cost function. All θ should be simultaneously updated. The vectorized form for δ is given below.\n",
    "\n",
    "\\begin{equation*}\n",
    "\\delta = \\frac{1}{m} \\sum_{}^m (h-y) * X\n",
    "\\end{equation*}\n",
    "\n",
    "The vectorized form for the θ update is given by:\n",
    "\n",
    "\\begin{equation*}\n",
    "\\theta := \\theta - \\alpha \\delta\n",
    "\\end{equation*}\n",
    "\n",
    "This is repeated for the number of iterations defined above. The idea is that this is the number of iterations it will take for gradient descent to converge."
   ]
  },
  {
   "cell_type": "code",
   "execution_count": 5,
   "metadata": {},
   "outputs": [],
   "source": [
    "def gradientDescent(X, y, theta, alpha, iterations):\n",
    "    m = np.size(y)\n",
    "    \n",
    "    for i in range(0, iterations):\n",
    "        h = np.matmul(X, theta)\n",
    "        delta = 1/m * np.matmul(X.transpose(), h - y)\n",
    "        theta = theta - alpha * delta\n",
    "    return theta"
   ]
  },
  {
   "cell_type": "markdown",
   "metadata": {},
   "source": [
    "The X matrix holds all the features from our data. In this example, we only have one feature. The y vector holds our recorded outcomes. [:,-1] refers to the last column of data1. Lastly, y is transposed to be a column vector from a row array. m is set total number of elements in the data which is the size of y."
   ]
  },
  {
   "cell_type": "code",
   "execution_count": 6,
   "metadata": {},
   "outputs": [],
   "source": [
    "X = np.array(data1.iloc[:, :-1].values)\n",
    "# reshape y from an array to a vector\n",
    "y = np.reshape(np.array(data1.iloc[:, -1].values), (-1, 1))\n",
    "# another method for reshaping, convert y into a matrix and transpose it to be a column vector\n",
    "# y = np.asmatrix(y).transpose()\n",
    "m = np.size(y)"
   ]
  },
  {
   "cell_type": "markdown",
   "metadata": {},
   "source": [
    "It can be helpful to visualize what data we have to work with. The first 5 elements of X and are printed. A plot of the data is also shown."
   ]
  },
  {
   "cell_type": "code",
   "execution_count": 7,
   "metadata": {},
   "outputs": [
    {
     "name": "stdout",
     "output_type": "stream",
     "text": [
      "[[6.1101]\n",
      " [5.5277]\n",
      " [8.5186]\n",
      " [7.0032]\n",
      " [5.8598]]\n"
     ]
    }
   ],
   "source": [
    "print(X[:5]) # first 5 rows of X"
   ]
  },
  {
   "cell_type": "code",
   "execution_count": 8,
   "metadata": {},
   "outputs": [
    {
     "name": "stdout",
     "output_type": "stream",
     "text": [
      "[[17.592 ]\n",
      " [ 9.1302]\n",
      " [13.662 ]\n",
      " [11.854 ]\n",
      " [ 6.8233]]\n"
     ]
    }
   ],
   "source": [
    "print(y[:5]) # print the first 5 elements of y"
   ]
  },
  {
   "cell_type": "code",
   "execution_count": 9,
   "metadata": {},
   "outputs": [
    {
     "data": {
      "image/png": "[encoded data removed]",
      "text/plain": [
       "<Figure size 432x288 with 1 Axes>"
      ]
     },
     "metadata": {},
     "output_type": "display_data"
    }
   ],
   "source": [
    "plt.plot(X, y, 'rx') # 'rx' means \"red x\" marker\n",
    "plt.xlabel('Population of City in 10,000s')\n",
    "plt.ylabel('Profit in $10,000s')\n",
    "plt.show()"
   ]
  },
  {
   "cell_type": "markdown",
   "metadata": {},
   "source": [
    "Add a bias column of 1's onto the front of the X matrix. This is our θ<sub>0</sub>."
   ]
  },
  {
   "cell_type": "code",
   "execution_count": 10,
   "metadata": {},
   "outputs": [
    {
     "name": "stdout",
     "output_type": "stream",
     "text": [
      "[[1.     6.1101]]\n"
     ]
    }
   ],
   "source": [
    "# concatenates a column of length m on ones as the first column in X\n",
    "X = np.c_[np.ones(m), X]\n",
    "print(X[:1])"
   ]
  },
  {
   "cell_type": "markdown",
   "metadata": {},
   "source": [
    "Create theta as a matrix of zeros that is the same dimensions as our X matrix."
   ]
  },
  {
   "cell_type": "code",
   "execution_count": 11,
   "metadata": {},
   "outputs": [
    {
     "name": "stdout",
     "output_type": "stream",
     "text": [
      "[[0.]\n",
      " [0.]]\n"
     ]
    }
   ],
   "source": [
    "theta = np.zeros([X.shape[1],1])\n",
    "print(theta)"
   ]
  },
  {
   "cell_type": "markdown",
   "metadata": {},
   "source": [
    "Compute our cost function, J."
   ]
  },
  {
   "cell_type": "code",
   "execution_count": 12,
   "metadata": {},
   "outputs": [
    {
     "name": "stdout",
     "output_type": "stream",
     "text": [
      "Our cost is [32.07273388]\n"
     ]
    }
   ],
   "source": [
    "J = computeCost(X, y, theta)\n",
    "print(\"Our cost is \" + str(J))"
   ]
  },
  {
   "cell_type": "markdown",
   "metadata": {},
   "source": [
    "Update θ<sub>0</sub> and θ<sub>1</sub> by performing gradient descent."
   ]
  },
  {
   "cell_type": "code",
   "execution_count": 13,
   "metadata": {},
   "outputs": [
    {
     "name": "stdout",
     "output_type": "stream",
     "text": [
      "[[-3.63029144]\n",
      " [ 1.16636235]]\n"
     ]
    }
   ],
   "source": [
    "theta = gradientDescent(X, y, theta, alpha, iterations)\n",
    "print(theta)"
   ]
  },
  {
   "cell_type": "markdown",
   "metadata": {},
   "source": [
    "Plot our points and see how well our regression line matches our data."
   ]
  },
  {
   "cell_type": "code",
   "execution_count": 14,
   "metadata": {},
   "outputs": [
    {
     "data": {
      "image/png": "[encoded data removed]",
      "text/plain": [
       "<Figure size 432x288 with 1 Axes>"
      ]
     },
     "metadata": {},
     "output_type": "display_data"
    }
   ],
   "source": [
    "plt.plot(X[:,1], y, 'rx') # 'rx' means \"red x\" marker\n",
    "plt.plot(X[:,1], np.matmul(X , theta))\n",
    "plt.xlabel('Population of City in 10,000s')\n",
    "plt.ylabel('Profit in $10,000s')\n",
    "plt.show()"
   ]
  },
  {
   "cell_type": "markdown",
   "metadata": {},
   "source": [
    "## Scikit-learn Method\n",
    "Now let's use scikit learn to perform the same operation. As you will see, the same outcome can be accomplished much more quickly using built-in methods but it is important to understand how they are working."
   ]
  },
  {
   "cell_type": "code",
   "execution_count": 15,
   "metadata": {},
   "outputs": [
    {
     "data": {
      "image/png": "[encoded data removed]",
      "text/plain": [
       "<Figure size 432x288 with 1 Axes>"
      ]
     },
     "metadata": {},
     "output_type": "display_data"
    }
   ],
   "source": [
    "X = np.array(data1.iloc[:, :-1].values)\n",
    "y = np.reshape(np.array(data1.iloc[:, -1].values), (-1, 1))\n",
    "\n",
    "clf = LinearRegression()\n",
    "clf.fit(X, y)\n",
    "\n",
    "plt.plot(X, y, 'rx')\n",
    "plt.plot(X, clf.predict(X))\n",
    "plt.xlabel('Population of City in 10,000s')\n",
    "plt.ylabel('Profit in $10,000s')\n",
    "plt.show()"
   ]
  },
  {
   "cell_type": "code",
   "execution_count": null,
   "metadata": {},
   "outputs": [],
   "source": []
  }
 ],
 "metadata": {
  "kernelspec": {
   "display_name": "Python 3",
   "language": "python",
   "name": "python3"
  },
  "language_info": {
   "codemirror_mode": {
    "name": "ipython",
    "version": 3
   },
   "file_extension": ".py",
   "mimetype": "text/x-python",
   "name": "python",
   "nbconvert_exporter": "python",
   "pygments_lexer": "ipython3",
   "version": "3.6.5"
  }
 },
 "nbformat": 4,
 "nbformat_minor": 2
}
