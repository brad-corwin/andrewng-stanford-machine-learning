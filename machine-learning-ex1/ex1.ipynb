{
 "cells": [
  {
   "cell_type": "markdown",
   "metadata": {},
   "source": [
    "# Programming Exercise 1: Linear Regression with One Variable"
   ]
  },
  {
   "cell_type": "markdown",
   "metadata": {},
   "source": [
    "This uses the Octave code from Programming Exercise 1 and implements it in Python."
   ]
  },
  {
   "cell_type": "code",
   "execution_count": 1,
   "metadata": {},
   "outputs": [],
   "source": [
    "import numpy as np\n",
    "import matplotlib.pyplot as plt"
   ]
  },
  {
   "cell_type": "markdown",
   "metadata": {},
   "source": [
    "Load the data from the text file using numpy. The text file is delimited by commas between the data so we set the delimiter to ','."
   ]
  },
  {
   "cell_type": "code",
   "execution_count": 2,
   "metadata": {},
   "outputs": [],
   "source": [
    "data1 = np.loadtxt(\"ex1\\ex1data1.txt\", delimiter=',')"
   ]
  },
  {
   "cell_type": "markdown",
   "metadata": {},
   "source": [
    "Set the constant variables. <br />\n",
    "alpha is our learning rate, iterations is the number of iterations/steps that we will use for gradient descent."
   ]
  },
  {
   "cell_type": "code",
   "execution_count": 3,
   "metadata": {},
   "outputs": [],
   "source": [
    "iterations = 1500\n",
    "alpha = 0.01"
   ]
  },
  {
   "cell_type": "markdown",
   "metadata": {},
   "source": [
    "**θ** is our *parameter* or *weight*, we update θ to minimize our cost function, *J*\n",
    "\n",
    "**h** is our *hypothesis* given by the formula below. h should try to best fit to our data y.\n",
    "\n",
    "> h = X * θ\n",
    "\n",
    "The squared error finds the squared difference beween our hypothesis value, *h*, and our real value, *y*. Summing the squared error helps find how far away our predicted regression line is from the data.\n",
    "\n",
    "> Σ<sub>1:m</sub>{(h - y)<sup>2</sup>}\n",
    "\n",
    "1/m is chosen to give the mean(average) of the results. The mean is halved as a convenience for gradient descent as the derivation term of the square function will cancel out the 1/2 term.\n",
    "\n",
    "> 1/2m\n",
    "\n",
    "Combining all of the information about, the cost function, *J*, is given below. J measures the accuracy of the hypothesis. \n",
    "\n",
    "> J(θ) = 1/2m Σ<sub>1:m</sub>{(h - y)<sup>2</sup>}"
   ]
  },
  {
   "cell_type": "code",
   "execution_count": 4,
   "metadata": {},
   "outputs": [],
   "source": [
    "def computeCost(X, y, theta):\n",
    "    m = np.size(y)\n",
    "    h = np.matmul(X, theta)\n",
    "    # np.square is the element-wise square\n",
    "    squaredErrors = np.square(h - y)\n",
    "    J = 1/(2*m) * sum(squaredErrors)\n",
    "    return J"
   ]
  },
  {
   "cell_type": "markdown",
   "metadata": {},
   "source": [
    "Gradient descent helps to minimize the cost function. The idea is that you start with some parameters, θ, and keeping changing them to reduce J until you reach a local minimum. A good example of gradient descent is that you are standing on a hill and take one step towards the bottom of the hill. How large of a step you take is determined by the learning rate, *α*.\n",
    "\n",
    "If α is too small, gradient descent can be very slow to converge (baby steps). If α is too large, gradient descent can fail to converge and even diverge (giant steps) \n",
    "\n",
    "The formula for gradient descent is repeated until convergence. \n",
    "\n",
    "> θ<sub>j</sub> := θ<sub>j</sub> - α * d/dθ<sub>j</sub> J(θ<sub>j</sub>)\n",
    "\n",
    "The partial derivative for each j is given by the term, delta: *δ*. The derivative is the slope of the cost function. All θ should be simultaneously updated. The vectorized form for δ is given below.\n",
    "\n",
    "> δ = 1/m * Σ<sub>1:m</sub>{(h - y) * X}\n",
    "\n",
    "The vectorized form for the θ update is given by:\n",
    "\n",
    "> θ := θ - α * δ\n",
    "\n",
    "This is repeated for the number of iterations defined above. The idea is that this is the number of iterations it will take for gradient descent to converge."
   ]
  },
  {
   "cell_type": "code",
   "execution_count": 5,
   "metadata": {},
   "outputs": [],
   "source": [
    "def gradientDescent(X, y, theta, alpha, iterations):\n",
    "    m = np.size(y)\n",
    "    \n",
    "    for i in range(0, iterations):\n",
    "        h = np.matmul(X, theta)\n",
    "        delta = 1/m * X.transpose() * (h - y)\n",
    "        theta = theta - alpha * delta\n",
    "    return theta"
   ]
  },
  {
   "cell_type": "markdown",
   "metadata": {},
   "source": [
    "The X matrix holds all the features from our data. In this example, we only have one feature. The y vector holds our recorded outcomes. [:,-1] refers to the last column of data1. Lastly, y is transposed to be a column vector from a row array. m is set total number of elements in the data which is the size of y."
   ]
  },
  {
   "cell_type": "code",
   "execution_count": 6,
   "metadata": {},
   "outputs": [],
   "source": [
    "X = data1[:,0]\n",
    "y = data1[:,-1]\n",
    "# convert y from an array to a matrix and transpose it correctly\n",
    "y = np.asmatrix(y).transpose()\n",
    "m = np.size(y)"
   ]
  },
  {
   "cell_type": "code",
   "execution_count": 7,
   "metadata": {},
   "outputs": [
    {
     "name": "stdout",
     "output_type": "stream",
     "text": [
      "[6.1101 5.5277 8.5186 7.0032 5.8598]\n"
     ]
    }
   ],
   "source": [
    "print(X[:5]) # first 5 rows of X"
   ]
  },
  {
   "cell_type": "code",
   "execution_count": 8,
   "metadata": {},
   "outputs": [
    {
     "name": "stdout",
     "output_type": "stream",
     "text": [
      "[[17.592 ]\n",
      " [ 9.1302]\n",
      " [13.662 ]\n",
      " [11.854 ]\n",
      " [ 6.8233]]\n"
     ]
    }
   ],
   "source": [
    "print(y[:5]) # print the first 5 elements of y"
   ]
  },
  {
   "cell_type": "markdown",
   "metadata": {},
   "source": [
    "Add a bias column of 1's onto the front of the X matrix."
   ]
  },
  {
   "cell_type": "code",
   "execution_count": 9,
   "metadata": {},
   "outputs": [
    {
     "name": "stdout",
     "output_type": "stream",
     "text": [
      "[[1.     6.1101]]\n"
     ]
    }
   ],
   "source": [
    "# concatenates a column of length m on ones as the first column in X\n",
    "X = np.c_[np.ones(m), X]\n",
    "print(X[:1])"
   ]
  },
  {
   "cell_type": "markdown",
   "metadata": {},
   "source": [
    "Create theta as a matrix of zeros that is the same dimensions as our X matrix."
   ]
  },
  {
   "cell_type": "code",
   "execution_count": 10,
   "metadata": {},
   "outputs": [
    {
     "name": "stdout",
     "output_type": "stream",
     "text": [
      "[[0.]\n",
      " [0.]]\n"
     ]
    }
   ],
   "source": [
    "theta = np.zeros([X.shape[1],1])\n",
    "print(theta)"
   ]
  },
  {
   "cell_type": "markdown",
   "metadata": {},
   "source": [
    "Compute our cost function, J."
   ]
  },
  {
   "cell_type": "code",
   "execution_count": 11,
   "metadata": {},
   "outputs": [
    {
     "name": "stdout",
     "output_type": "stream",
     "text": [
      "Our cost is [[32.07273388]]\n"
     ]
    }
   ],
   "source": [
    "J = computeCost(X, y, theta)\n",
    "print(\"Our cost is \" + str(J))"
   ]
  },
  {
   "cell_type": "markdown",
   "metadata": {},
   "source": [
    "Update theta0 and theta1 by performing gradient descent."
   ]
  },
  {
   "cell_type": "code",
   "execution_count": 12,
   "metadata": {},
   "outputs": [
    {
     "name": "stdout",
     "output_type": "stream",
     "text": [
      "[[-3.63029144]\n",
      " [ 1.16636235]]\n"
     ]
    }
   ],
   "source": [
    "theta = gradientDescent(X, y, theta, alpha, iterations)\n",
    "print(theta)"
   ]
  },
  {
   "cell_type": "markdown",
   "metadata": {},
   "source": [
    "Plot our points and see how well our theta matches our data."
   ]
  },
  {
   "cell_type": "code",
   "execution_count": 13,
   "metadata": {},
   "outputs": [
    {
     "data": {
      "image/png": "[encoded data removed]",
      "text/plain": [
       "<Figure size 432x288 with 1 Axes>"
      ]
     },
     "metadata": {},
     "output_type": "display_data"
    }
   ],
   "source": [
    "plt.plot(X[:,1], y, 'rx') # 'rx' means \"red x\" marker\n",
    "plt.plot(X[:,1], X * theta)\n",
    "plt.xlabel('Population of City in 10,000s')\n",
    "plt.ylabel('Profit in $10,000s')\n",
    "plt.show()"
   ]
  },
  {
   "cell_type": "code",
   "execution_count": null,
   "metadata": {},
   "outputs": [],
   "source": []
  }
 ],
 "metadata": {
  "kernelspec": {
   "display_name": "Python 3",
   "language": "python",
   "name": "python3"
  },
  "language_info": {
   "codemirror_mode": {
    "name": "ipython",
    "version": 3
   },
   "file_extension": ".py",
   "mimetype": "text/x-python",
   "name": "python",
   "nbconvert_exporter": "python",
   "pygments_lexer": "ipython3",
   "version": "3.6.5"
  }
 },
 "nbformat": 4,
 "nbformat_minor": 2
}
