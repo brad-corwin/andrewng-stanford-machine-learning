{
 "cells": [
  {
   "cell_type": "markdown",
   "metadata": {},
   "source": [
    "# Programming Exercise 1: Linear Regression with Multiple Variables\n",
    "Scroll to the bottom for the sklearn method. The first method doesn't quite work as it does in my Octave code."
   ]
  },
  {
   "cell_type": "code",
   "execution_count": 1,
   "metadata": {},
   "outputs": [],
   "source": [
    "import numpy as np\n",
    "import matplotlib.pyplot as plt\n",
    "import pandas as pd\n",
    "from sklearn.linear_model import LinearRegression"
   ]
  },
  {
   "cell_type": "code",
   "execution_count": 2,
   "metadata": {},
   "outputs": [],
   "source": [
    "# Load the data\n",
    "data = pd.read_csv('ex1\\ex1data2.txt', sep=',', header=None)\n",
    "X = np.array(data.iloc[:, :-1].values)\n",
    "y = np.reshape(np.array(data.iloc[:, -1].values), (-1, 1))\n",
    "m = np.size(y)"
   ]
  },
  {
   "cell_type": "markdown",
   "metadata": {},
   "source": [
    "In the featureNormalize function, it takes all of the features in X and gives them equal weights by converting their values to a scale from 0 to 1."
   ]
  },
  {
   "cell_type": "code",
   "execution_count": 3,
   "metadata": {},
   "outputs": [],
   "source": [
    "def featureNormalize(X):\n",
    "    mu = np.mean(X, axis=0)\n",
    "    sigma = np.std(X, axis=0)\n",
    "    X_norm = np.divide(X - mu, sigma)\n",
    "    return X_norm, mu, sigma"
   ]
  },
  {
   "cell_type": "markdown",
   "metadata": {},
   "source": [
    "Our gradientDescent function operates the same way as ex1's implementation."
   ]
  },
  {
   "cell_type": "code",
   "execution_count": 4,
   "metadata": {},
   "outputs": [],
   "source": [
    "def gradientDescent(X, y, theta, alpha, iterations):\n",
    "    m = np.size(y)\n",
    "    \n",
    "    for i in range(0, iterations):\n",
    "        h = np.matmul(X, theta)\n",
    "        delta = 1/m * np.matmul(X.transpose(), h - y)\n",
    "        theta = theta - alpha * delta\n",
    "    return theta"
   ]
  },
  {
   "cell_type": "code",
   "execution_count": 5,
   "metadata": {},
   "outputs": [],
   "source": [
    "X, mu, sigma = featureNormalize(X)\n",
    "X = np.c_[np.ones(m), X] # add our bias column, theta_0"
   ]
  },
  {
   "cell_type": "code",
   "execution_count": 6,
   "metadata": {},
   "outputs": [
    {
     "name": "stdout",
     "output_type": "stream",
     "text": [
      "[[340410.91897274]\n",
      " [109162.68848142]\n",
      " [ -6293.24735132]]\n"
     ]
    }
   ],
   "source": [
    "alpha = 0.03;\n",
    "iterations = 400;\n",
    "\n",
    "# initialize theta\n",
    "theta = np.zeros([X.shape[1],1])\n",
    "\n",
    "# perform gradient descent\n",
    "theta = gradientDescent(X, y, theta, alpha, iterations)\n",
    "\n",
    "print(theta)"
   ]
  },
  {
   "cell_type": "code",
   "execution_count": 7,
   "metadata": {},
   "outputs": [
    {
     "name": "stdout",
     "output_type": "stream",
     "text": [
      "[[ 1.80439967e+08]\n",
      " [-8.98524813e+05]\n",
      " [ 2.37811495e+08]]\n"
     ]
    }
   ],
   "source": [
    "# predict price of a 1,650 sq ft, 3 bedroom house\n",
    "predict = np.array([[1, 1650, 3]])\n",
    "mu = np.append(0, mu)\n",
    "mu = mu.reshape(-1,1)\n",
    "sigma = np.append(1, sigma)\n",
    "sigma = sigma.reshape(-1,1)\n",
    "\n",
    "# This isn't quite right\n",
    "print(np.matmul(np.divide(predict - mu, sigma), theta))"
   ]
  },
  {
   "cell_type": "markdown",
   "metadata": {},
   "source": [
    "## Scikit-learn Method"
   ]
  },
  {
   "cell_type": "code",
   "execution_count": 8,
   "metadata": {},
   "outputs": [
    {
     "name": "stdout",
     "output_type": "stream",
     "text": [
      "[[293081.4643349]]\n"
     ]
    }
   ],
   "source": [
    "X = np.array(data.iloc[:, :-1].values)\n",
    "y = np.reshape(np.array(data.iloc[:, -1].values), (-1, 1))\n",
    "\n",
    "clf = LinearRegression()\n",
    "clf.fit(X, y)\n",
    "\n",
    "# predict price of a 1,650 sq ft, 3 bedroom house\n",
    "print(clf.predict(np.array([[1650, 3]])))"
   ]
  },
  {
   "cell_type": "code",
   "execution_count": null,
   "metadata": {},
   "outputs": [],
   "source": []
  }
 ],
 "metadata": {
  "kernelspec": {
   "display_name": "Python 3",
   "language": "python",
   "name": "python3"
  },
  "language_info": {
   "codemirror_mode": {
    "name": "ipython",
    "version": 3
   },
   "file_extension": ".py",
   "mimetype": "text/x-python",
   "name": "python",
   "nbconvert_exporter": "python",
   "pygments_lexer": "ipython3",
   "version": "3.6.5"
  }
 },
 "nbformat": 4,
 "nbformat_minor": 2
}
